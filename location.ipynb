{
 "cells": [
  {
   "cell_type": "code",
   "execution_count": 4,
   "metadata": {},
   "outputs": [
    {
     "name": "stdout",
     "output_type": "stream",
     "text": [
      "Your location:\n",
      "Country: Germany\n",
      "Region: Baden-Württemberg\n",
      "City: Ostrach\n",
      "Latitude: 47.977439880371094\n",
      "Longitude: 9.383270263671875\n"
     ]
    }
   ],
   "source": [
    "import requests\n",
    "\n",
    "def get_location():\n",
    "    try:\n",
    "        response = requests.get('https://freegeoip.app/json/')\n",
    "        if response.status_code == 200:\n",
    "            data = response.json()\n",
    "            print(\"Your location:\")\n",
    "            print(\"Country:\", data['country_name'])\n",
    "            print(\"Region:\", data['region_name'])\n",
    "            print(\"City:\", data['city'])\n",
    "            print(\"Latitude:\", data['latitude'])\n",
    "            print(\"Longitude:\", data['longitude'])\n",
    "        else:\n",
    "            print(\"Failed to retrieve location. Status code:\", response.status_code)\n",
    "    except Exception as e:\n",
    "        print(\"An error occurred:\", e)\n",
    "\n",
    "get_location()\n"
   ]
  }
 ],
 "metadata": {
  "kernelspec": {
   "display_name": "Python 3",
   "language": "python",
   "name": "python3"
  },
  "language_info": {
   "codemirror_mode": {
    "name": "ipython",
    "version": 3
   },
   "file_extension": ".py",
   "mimetype": "text/x-python",
   "name": "python",
   "nbconvert_exporter": "python",
   "pygments_lexer": "ipython3",
   "version": "3.11.7"
  }
 },
 "nbformat": 4,
 "nbformat_minor": 2
}
